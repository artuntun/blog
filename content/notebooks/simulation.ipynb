{
 "metadata": {
  "name": "",
  "signature": "sha256:b7b76ba3280ed1abdb32bb6dc9e6c739fb719d199409183f8f1757ae6fb6f41e"
 },
 "nbformat": 3,
 "nbformat_minor": 0,
 "worksheets": [
  {
   "cells": [
    {
     "cell_type": "markdown",
     "metadata": {},
     "source": [
      "The stochastic simulation algorithm (SSA), or Gillespie algorithm, provides a means to sample directly from the state\n",
      "distribution of a system governed by the master equation. Whilst this methodology has been used for the simulation of chemical\n",
      "reactions for decades, its applicability and utility in the simulation of dynamical processes on networks is not well known.\n",
      "We will look at an implementation the Gillespie Algorithm for an epidemic process on an random network, and consider the implementation issues when using Numpy."
     ]
    },
    {
     "cell_type": "markdown",
     "metadata": {},
     "source": [
      "Modelling dynamical systems ... [^1]\n",
      "\n",
      "[^1]: Whats going on here?\n",
      "\n",
      "Computationally expensive and often rely on choosing a timestep which can give errors.\n",
      "\n",
      "The Gillespie algorithm is exact and has been used in the mean-field particularly in the realm of chemical reactions."
     ]
    },
    {
     "cell_type": "markdown",
     "metadata": {},
     "source": [
      "The Model\n",
      "---\n",
      "\n",
      "We will look at one of the most simplistic models simple model of epidemic spread, the SI model. An *node* (person) can either be susceptible (S) or infected (I) with a disease. Nodes are connected along *links* which describe some interaction between the two bodies for which the disease may possibly travel. For example, our network might contain links between every two people who have passed within 5 metres of each other over a day [^1]. Simpler networks could be family ties, coworkers, and coinhabitants if such high resolution data isn't achievable. \n",
      "\n",
      "The model consists of two reactions,\n",
      "$$\\begin{align} \n",
      "    S + I &\\xrightarrow{\\lambda} I + I,  \\\\\n",
      "    S &\\xrightarrow{\\gamma} I.\n",
      "    \\end{align}$$\n",
      "    \n",
      "A susceptible node can meet an infected node and subsequently become infected itself with some probability (contagion). A susceptible node can also spontaneously become infected by itself (spontaneous infection). This accounts for any chance of becoming infected which is not accounted for in our model otherwise.\n",
      "    "
     ]
    },
    {
     "cell_type": "code",
     "collapsed": false,
     "input": [
      "from simulation import SI_Simulation # Import the model."
     ],
     "language": "python",
     "metadata": {},
     "outputs": [],
     "prompt_number": 14
    },
    {
     "cell_type": "code",
     "collapsed": false,
     "input": [
      "G = nx.erdos_renyi_graph(1000,0.05) # Use Networkx to generate a random graph."
     ],
     "language": "python",
     "metadata": {},
     "outputs": [],
     "prompt_number": 45
    },
    {
     "cell_type": "code",
     "collapsed": false,
     "input": [
      "model = SI_Simulation(G, lam=0.8, gam=0.001, i0=0.0) # Setup the simulation with given parameters.\n",
      "model.RunToConvergence() # Run the simulation.\n",
      "model.IntegrateSolution() # Numerically integrate the mean field equations."
     ],
     "language": "python",
     "metadata": {},
     "outputs": [],
     "prompt_number": 46
    },
    {
     "cell_type": "code",
     "collapsed": false,
     "input": [
      "# Simulation.\n",
      "plot(model.times,model.S/model.N, 'g-', label='Susceptible (sim)');\n",
      "plot(model.times,model.I/model.N, 'r-', label='Infected (sim)');\n",
      "\n",
      "# Numerical Integration.\n",
      "t = np.linspace(0,model.times[-1],100)\n",
      "plot(t, model.solution[:,0],'g--', label='Susceptible (approx)');\n",
      "plot(t, model.solution[:,1],'r--', label='Infected  (approx)');\n",
      "\n",
      "xlabel('t')\n",
      "ylabel('Population Fraction')\n",
      "\n",
      "legend(bbox_to_anchor=(1.0,0.7));"
     ],
     "language": "python",
     "metadata": {},
     "outputs": [
      {
       "metadata": {},
       "output_type": "display_data",
       "png": "[encoded data removed]",
       "text": [
        "<matplotlib.figure.Figure at 0x106d42d0>"
       ]
      }
     ],
     "prompt_number": 50
    },
    {
     "cell_type": "markdown",
     "metadata": {},
     "source": [
      "The simulation approximately follows the mean-field prediction which assumes all nodes have the same degree and are identical in their placement in the network. The number of infected follows an S-shaped curve; infection is slow at first and then rapidily increases before slowing towards the final state.\n",
      "\n",
      "This model and the S-shaped curve has been used in marketing to model the adoption of consumer products from as early as 1969. The [Bass Model](http://en.wikipedia.org/wiki/Bass_diffusion_model) as it is called is one of the top 5 most frequently cited papers in the 50-year history of the journal *Management Science*. One might rightly question why such a simple model has been so well adopted when it is such an oversimplification. Partly the reason is due to the ability to fit parameters to data, or most likely *over-fit* parameters to data, but that is a different issue entirely!\n",
      "\n",
      "The literature on epidemic and innovation models is extremely rich and is at a point where any written review of it would be outdated by the time it was finished. For now we'll look at how to simulate these models on a network."
     ]
    },
    {
     "cell_type": "markdown",
     "metadata": {},
     "source": [
      "Gillespie\n",
      "---\n",
      "The [Gillespie algorithm](http://en.wikipedia.org/wiki/Gillespie_algorithm), or the stochastic simulation algorithm\n",
      "(SSA) was first introduced in 1976 as a means of\n",
      "providing statistically exact simulations of reacting chemical\n",
      "species within a reaction volume. There are also\n",
      "a number of improvements and approximations which have\n",
      "been suggested, the most famous of which are the Gibson-Bruck algorithm[^2] and the \u001c",
      " Tau-leap approximation[^3].\n",
      "\n",
      "Traditional simulation methods are *interval*-driven; they\n",
      "choose a small time step $\\Delta t$ and consider whether a reaction\n",
      "happens in the interval $[t, t + \\Delta t)$. These types of simulations\n",
      "come in two different flavours, synchronous updating\n",
      "where each node has a chance to react during an interval and\n",
      "asynchronous updating, where a individual node is chosen at\n",
      "random and then given the possibility to react. Interestingly\n",
      "enough, these two simulation schemes can give different results\n",
      "depending on the dynamics at play. One also has\n",
      "to take into consideration the length of time step which can\n",
      "have considerable effects on the reliability of the results however\n",
      "it is possible to choose these values sensibly to reduce\n",
      "error. Another caveat of interval\n",
      "methods is that they can be extremely computationally inefficient. There may be multiple intervals computed before\n",
      "a reaction takes place, especially if the rate of reaction is\n",
      "small. This means that multiple random numbers are generated\n",
      "which have no effect on the system. In practice, the\n",
      "time interval is chosen such that the expected number of reactions\n",
      "in an interval is one however this requires the interval\n",
      "length to be adjusted as the simulation evolves and reaction\n",
      "propensities change.\n",
      "\n",
      "By contrast the Gillespie algorithm is *event*-driven; it calculates\n",
      "the time until the next event happens then progresses\n",
      "time forward until that time and executes the event. This\n",
      "means that an *infintesimally small* time increment $dt$ is never\n",
      "approximated by a finite timestep $\\Delta t$. It also has the added\n",
      "advantage that each iteration of the algorithm responds to\n",
      "a reaction or event meaning that computation is not wasted as in the traditional counterparts.\n",
      "\n",
      "The implementation follows the simple steps\n",
      "\n",
      ">    1.  Generate two random numbers $r_1$, $r_2$ picked from a uniform distribution on $(0,1)$.\n",
      ">    2.  + Compute the propensity function $\\alpha_i^m(t)$ for each node $i$ and reaction $m$.\n",
      ">        + Compute the total propensity for the system,\n",
      ">    $$\\begin{align}\n",
      "    \\alpha_0 = \\sum_{m=1}^{M}\\sum_{i=1}^{N}\\alpha_i^m(t). \n",
      "    \\end{align}$$ \n",
      ">    3. Compute the time until the next reaction takes place as \n",
      ">    $$\\begin{align}\n",
      "    \\tau = \\frac{1}{\\alpha_0}\\log\\left( \\frac{1}{r_1} \\right). \n",
      "    \\end{align}$$\n",
      ">    4. Compute which reaction occurs at time $t+\\tau$, i.e. find $k,j$ such that\n",
      ">    $$\\begin{align}\n",
      "    r_2 \\geq \\frac{1}{\\alpha_0}\\sum_{m=1}^{k-1}\\sum_{i=1}^{j-1}\\alpha_i^m(t) \\hspace{1ex} \\text{and} \\hspace{1ex} r_2 < \\frac{1}{\\alpha_0}\\sum_{m=1}^{k}\\sum_{i=1}^{j}\\alpha_i^m(t).\n",
      "    \\end{align}$$\n",
      ">    5. Update the node states and propensities for the $k$-th reaction of  the $j$-th node.\n",
      ">    6. Repeat from step 1(a) from time $t+\\tau$."
     ]
    },
    {
     "cell_type": "markdown",
     "metadata": {},
     "source": [
      "Code\n",
      "---\n",
      "\n",
      "The model is implemented as a Python class which keeps track of the individual node states as well as the overall level of infected and susceptible nodes. The main functions are *RunIteration()* where the Gillespie algorithm is run, and *UpdatePropensity()* which calculates the propensities for nodes to become infected. You will see that there are in fact 5 seperate implementations of the *UpdatePropensity()* function. This is the computational bottleneck of the simulation and so, in the next section we explore the merits and caveats of these different implementations."
     ]
    },
    {
     "cell_type": "markdown",
     "metadata": {},
     "source": [
      "This framework is designed to be general. Provided the propensity of a reaction is properly calculated, and the network states updated then any number of reactions can be cast into this form, including dynamics which alter the structure of the network itself.\n",
      "\n",
      "Efficiency\n",
      "---\n",
      "\n",
      "In theory, this is the currently the most efficient way of implementing the model, however intricases in the Python language (and the Numpy package) require that more thought is given as to how it is written.\n",
      "\n",
      "The most intensive aspect of the algorithm is the calculation of the propensities for each node (and reaction).\n",
      "This can be written in terms of matrix multiplication.\n",
      "\n",
      "$$ \\underline{\\alpha} = (\\gamma \\textbf{1} + \\lambda \\textbf{A}\\textbf{1}_{\\{infected\\}}) \\circ \\textbf{1}_{\\{susceptible\\}} $$\n",
      "\n",
      "where $\\circ$ is the element-wise vector multiplication and $(\\textbf{1}_{\\{infected\\}})_i = 1$ if node $i$ is infected and $0$ otherwise. The indicator vector $\\textbf{1}_{\\{susceptible\\}}$ is similarly defined. This definition calculates all the propensities however in most cases (particularly on sparse networks) when a node changes state only a small fraction of the nodes will change propensity.\n",
      "\n",
      "We'll go through the methods implemented and at their merits\n",
      "\n",
      "ALL\n",
      "\n",
      "FANCY\n",
      "\n",
      "TAKE\n",
      "\n",
      "LOOP\n",
      "\n",
      "SLICE"
     ]
    },
    {
     "cell_type": "code",
     "collapsed": false,
     "input": [
      "G = nx.erdos_renyi_graph(1000,0.95)"
     ],
     "language": "python",
     "metadata": {},
     "outputs": [],
     "prompt_number": 279
    },
    {
     "cell_type": "code",
     "collapsed": false,
     "input": [
      "%%timeit\n",
      "model = SI_Simulation(G, lam=0.1, gam=0.05, i0=0.1, prop='TAKE')\n",
      "model.RunToConvergence()"
     ],
     "language": "python",
     "metadata": {},
     "outputs": [
      {
       "output_type": "stream",
       "stream": "stdout",
       "text": [
        "1 loops, best of 3: 2.35 s per loop\n"
       ]
      }
     ],
     "prompt_number": 280
    },
    {
     "cell_type": "code",
     "collapsed": false,
     "input": [
      "%%timeit\n",
      "model = SI_Simulation(G, lam=0.1, gam=0.05, i0=0.1, prop='ALL')\n",
      "model.RunToConvergence()"
     ],
     "language": "python",
     "metadata": {},
     "outputs": [
      {
       "output_type": "stream",
       "stream": "stdout",
       "text": [
        "1 loops, best of 3: 1.72 s per loop\n"
       ]
      }
     ],
     "prompt_number": 281
    },
    {
     "cell_type": "code",
     "collapsed": false,
     "input": [
      "%%timeit\n",
      "model = SI_Simulation(G, lam=0.1, gam=0.05, i0=0.1, prop='LOOP')\n",
      "model.RunToConvergence()"
     ],
     "language": "python",
     "metadata": {},
     "outputs": [
      {
       "output_type": "stream",
       "stream": "stdout",
       "text": [
        "1 loops, best of 3: 18.8 s per loop\n"
       ]
      }
     ],
     "prompt_number": 282
    },
    {
     "cell_type": "code",
     "collapsed": false,
     "input": [
      "%%timeit\n",
      "model = SI_Simulation(G, lam=0.1, gam=0.05, i0=0.1, prop='FANCY')\n",
      "model.RunToConvergence()"
     ],
     "language": "python",
     "metadata": {},
     "outputs": [
      {
       "output_type": "stream",
       "stream": "stdout",
       "text": [
        "1 loops, best of 3: 9.62 s per loop\n"
       ]
      }
     ],
     "prompt_number": 283
    },
    {
     "cell_type": "code",
     "collapsed": false,
     "input": [
      "%%timeit\n",
      "model = SI_Simulation(G, lam=0.1, gam=0.05, i0=0.1, prop='SLICE')\n",
      "model.RunToConvergence()"
     ],
     "language": "python",
     "metadata": {},
     "outputs": [
      {
       "output_type": "stream",
       "stream": "stdout",
       "text": [
        "1 loops, best of 3: 1.66 s per loop\n"
       ]
      }
     ],
     "prompt_number": 284
    },
    {
     "cell_type": "markdown",
     "metadata": {},
     "source": [
      "We can see that, for near-complete graphs the SLICE method is the fastest,  followed closely by the ALL method. This 'hacky' method is simply reducing the number of calculations however its effect is inconsistent. The TAKE method takes almost 50% more time again which is due to the copying previously mentioned.The FANCY index seems to have a large overhead given it is carrying out the exact same function as TAKE. The native Python LOOP is by contrast, too slow to even consider."
     ]
    },
    {
     "cell_type": "code",
     "collapsed": false,
     "input": [
      "G = nx.erdos_renyi_graph(1000,0.05)"
     ],
     "language": "python",
     "metadata": {},
     "outputs": [],
     "prompt_number": 285
    },
    {
     "cell_type": "code",
     "collapsed": false,
     "input": [
      "%%timeit\n",
      "model = SI_Simulation(G, lam=0.1, gam=0.05, i0=0.1, prop='TAKE')\n",
      "model.RunToConvergence()"
     ],
     "language": "python",
     "metadata": {},
     "outputs": [
      {
       "output_type": "stream",
       "stream": "stdout",
       "text": [
        "1 loops, best of 3: 200 ms per loop\n"
       ]
      }
     ],
     "prompt_number": 286
    },
    {
     "cell_type": "code",
     "collapsed": false,
     "input": [
      "%%timeit\n",
      "model = SI_Simulation(G, lam=0.1, gam=0.05, i0=0.1, prop='ALL')\n",
      "model.RunToConvergence()"
     ],
     "language": "python",
     "metadata": {},
     "outputs": [
      {
       "output_type": "stream",
       "stream": "stdout",
       "text": [
        "1 loops, best of 3: 841 ms per loop\n"
       ]
      }
     ],
     "prompt_number": 287
    },
    {
     "cell_type": "code",
     "collapsed": false,
     "input": [
      "%%timeit\n",
      "model = SI_Simulation(G, lam=0.1, gam=0.05, i0=0.1, prop='LOOP')\n",
      "model.RunToConvergence()"
     ],
     "language": "python",
     "metadata": {},
     "outputs": [
      {
       "output_type": "stream",
       "stream": "stdout",
       "text": [
        "1 loops, best of 3: 1.03 s per loop\n"
       ]
      }
     ],
     "prompt_number": 288
    },
    {
     "cell_type": "code",
     "collapsed": false,
     "input": [
      "%%timeit\n",
      "model = SI_Simulation(G, lam=0.1, gam=0.05, i0=0.1, prop='FANCY')\n",
      "model.RunToConvergence()"
     ],
     "language": "python",
     "metadata": {},
     "outputs": [
      {
       "output_type": "stream",
       "stream": "stdout",
       "text": [
        "1 loops, best of 3: 592 ms per loop\n"
       ]
      }
     ],
     "prompt_number": 289
    },
    {
     "cell_type": "code",
     "collapsed": false,
     "input": [
      "%%timeit\n",
      "model = SI_Simulation(G, lam=0.1, gam=0.05, i0=0.1, prop='SLICE')\n",
      "model.RunToConvergence()"
     ],
     "language": "python",
     "metadata": {},
     "outputs": [
      {
       "output_type": "stream",
       "stream": "stdout",
       "text": [
        "1 loops, best of 3: 832 ms per loop\n"
       ]
      }
     ],
     "prompt_number": 290
    },
    {
     "cell_type": "markdown",
     "metadata": {},
     "source": [
      "Now we can see that the TAKE function is by far the fastest in the low degree limit. This means that only a relatively small amount of data has to be copied and this undertaking does not outweight the potentially huge gains over calculating all propensities. These are single instances and so we should not take them as gospel. \n",
      "\n",
      "What I am interested in is when should we value one method over another? To investigate this we should look over a full range of values for repeated simulation."
     ]
    },
    {
     "cell_type": "code",
     "collapsed": false,
     "input": [
      "from timeit import timeit\n",
      "num_sims = 10\n",
      "\n",
      "setup = \"\"\"\n",
      "from simulation import SI_Simulation\n",
      "import networkx as nx\n",
      "G = nx.erdos_renyi_graph(1000,0.5, seed=50)\n",
      "\"\"\"\n",
      "\n",
      "stmt = \"\"\"\n",
      "model = SI_Simulation(G,lam=0.1, gam=0.05, i0=0.1, prop='TAKE')\n",
      "model.RunToConvergence()\n",
      "\"\"\"\n",
      "\n",
      "timeit(stmt=stmt, setup=setup, number=num_sims)"
     ],
     "language": "python",
     "metadata": {},
     "outputs": []
    },
    {
     "cell_type": "code",
     "collapsed": false,
     "input": [
      "from timeit import timeit\n",
      "sims = 5\n",
      "\n",
      "t_take_store = []\n",
      "t_all_store = []\n",
      "\n",
      "for N in np.logspace(1,3.5,10):\n",
      "    print \"\\n {:.0f}: \".format(N),\n",
      "    t_take = []\n",
      "    t_all = []\n",
      "    for k in np.linspace(1,N,10):\n",
      "        print \"{:.2f}\".format(k),\n",
      "\n",
      "        setup = \"\"\"\n",
      "from simulation import SI_Simulation\n",
      "import networkx as nx\n",
      "G = nx.erdos_renyi_graph({N:.0f},{p:.4f}, seed=50)\n",
      "\"\"\".format(N=N, p=float(k)/N)\n",
      "\n",
      "        stmt = \"\"\"\n",
      "model = SI_Simulation(G,lam=0.1, gam=0.05, i0=0.1, prop='TAKE')\n",
      "model.RunToConvergence()\n",
      "\"\"\"        \n",
      "        t_take.append(timeit(stmt=stmt, setup=setup, number=sims)/sims) \n",
      "    \n",
      "        stmt = \"\"\"\n",
      "model = SI_Simulation(G,lam=0.1, gam=0.05, i0=0.1, prop='ALL')\n",
      "model.RunToConvergence()\n",
      "\"\"\"          \n",
      "        t_all.append(timeit(stmt=stmt, setup=setup, number=sims)/sims) \n",
      "    \n",
      "    t_take_store.append(t_take)\n",
      "    t_all_store.append(t_all)\n",
      "    \n",
      "t_take_store = np.array(t_take_store)\n",
      "t_all_store = np.array(t_all_store)"
     ],
     "language": "python",
     "metadata": {},
     "outputs": [
      {
       "output_type": "stream",
       "stream": "stdout",
       "text": [
        "\n",
        " 10:  1.00 2.00 3.00 4.00 "
       ]
      },
      {
       "output_type": "stream",
       "stream": "stdout",
       "text": [
        "5.00 6.00 7.00 8.00 "
       ]
      },
      {
       "output_type": "stream",
       "stream": "stdout",
       "text": [
        "9.00 10.00 \n",
        " 19:  1.00 "
       ]
      },
      {
       "output_type": "stream",
       "stream": "stdout",
       "text": [
        "3.00 4.99 6.99 "
       ]
      },
      {
       "output_type": "stream",
       "stream": "stdout",
       "text": [
        "8.98 10.98 12.97 "
       ]
      },
      {
       "output_type": "stream",
       "stream": "stdout",
       "text": [
        "14.97 16.96 18.96 "
       ]
      },
      {
       "output_type": "stream",
       "stream": "stdout",
       "text": [
        "\n",
        " 36:  1.00 4.88 "
       ]
      },
      {
       "output_type": "stream",
       "stream": "stdout",
       "text": [
        "8.76 12.65 "
       ]
      },
      {
       "output_type": "stream",
       "stream": "stdout",
       "text": [
        "16.53 20.41 "
       ]
      },
      {
       "output_type": "stream",
       "stream": "stdout",
       "text": [
        "24.29 28.17 "
       ]
      },
      {
       "output_type": "stream",
       "stream": "stdout",
       "text": [
        "32.06 35.94 "
       ]
      },
      {
       "output_type": "stream",
       "stream": "stdout",
       "text": [
        "\n",
        " 68:  1.00 8.46 "
       ]
      },
      {
       "output_type": "stream",
       "stream": "stdout",
       "text": [
        "15.92 "
       ]
      },
      {
       "output_type": "stream",
       "stream": "stdout",
       "text": [
        "23.38 "
       ]
      },
      {
       "output_type": "stream",
       "stream": "stdout",
       "text": [
        "30.84 "
       ]
      },
      {
       "output_type": "stream",
       "stream": "stdout",
       "text": [
        "38.29 "
       ]
      },
      {
       "output_type": "stream",
       "stream": "stdout",
       "text": [
        "45.75 "
       ]
      },
      {
       "output_type": "stream",
       "stream": "stdout",
       "text": [
        "53.21 "
       ]
      },
      {
       "output_type": "stream",
       "stream": "stdout",
       "text": [
        "60.67 "
       ]
      },
      {
       "output_type": "stream",
       "stream": "stdout",
       "text": [
        "68.13 "
       ]
      },
      {
       "output_type": "stream",
       "stream": "stdout",
       "text": [
        "\n",
        " 129:  1.00 "
       ]
      },
      {
       "output_type": "stream",
       "stream": "stdout",
       "text": [
        "15.24 "
       ]
      },
      {
       "output_type": "stream",
       "stream": "stdout",
       "text": [
        "29.48 "
       ]
      },
      {
       "output_type": "stream",
       "stream": "stdout",
       "text": [
        "43.72 "
       ]
      },
      {
       "output_type": "stream",
       "stream": "stdout",
       "text": [
        "57.96 "
       ]
      },
      {
       "output_type": "stream",
       "stream": "stdout",
       "text": [
        "72.20 "
       ]
      },
      {
       "output_type": "stream",
       "stream": "stdout",
       "text": [
        "86.44 "
       ]
      },
      {
       "output_type": "stream",
       "stream": "stdout",
       "text": [
        "100.68 "
       ]
      },
      {
       "output_type": "stream",
       "stream": "stdout",
       "text": [
        "114.92 "
       ]
      },
      {
       "output_type": "stream",
       "stream": "stdout",
       "text": [
        "129.15 "
       ]
      },
      {
       "output_type": "stream",
       "stream": "stdout",
       "text": [
        "\n",
        " 245:  1.00 "
       ]
      },
      {
       "output_type": "stream",
       "stream": "stdout",
       "text": [
        "28.09 "
       ]
      },
      {
       "output_type": "stream",
       "stream": "stdout",
       "text": [
        "55.19 "
       ]
      },
      {
       "output_type": "stream",
       "stream": "stdout",
       "text": [
        "82.28 "
       ]
      },
      {
       "output_type": "stream",
       "stream": "stdout",
       "text": [
        "109.37 "
       ]
      },
      {
       "output_type": "stream",
       "stream": "stdout",
       "text": [
        "136.47 "
       ]
      },
      {
       "output_type": "stream",
       "stream": "stdout",
       "text": [
        "163.56 "
       ]
      },
      {
       "output_type": "stream",
       "stream": "stdout",
       "text": [
        "190.66 "
       ]
      },
      {
       "output_type": "stream",
       "stream": "stdout",
       "text": [
        "217.75 "
       ]
      },
      {
       "output_type": "stream",
       "stream": "stdout",
       "text": [
        "244.84 "
       ]
      },
      {
       "output_type": "stream",
       "stream": "stdout",
       "text": [
        "\n",
        " 464:  1.00 "
       ]
      },
      {
       "output_type": "stream",
       "stream": "stdout",
       "text": [
        "52.46 "
       ]
      },
      {
       "output_type": "stream",
       "stream": "stdout",
       "text": [
        "103.92 "
       ]
      },
      {
       "output_type": "stream",
       "stream": "stdout",
       "text": [
        "155.39 "
       ]
      },
      {
       "output_type": "stream",
       "stream": "stdout",
       "text": [
        "206.85 "
       ]
      },
      {
       "output_type": "stream",
       "stream": "stdout",
       "text": [
        "258.31 "
       ]
      },
      {
       "output_type": "stream",
       "stream": "stdout",
       "text": [
        "309.77 "
       ]
      },
      {
       "output_type": "stream",
       "stream": "stdout",
       "text": [
        "361.23 "
       ]
      },
      {
       "output_type": "stream",
       "stream": "stdout",
       "text": [
        "412.70 "
       ]
      },
      {
       "output_type": "stream",
       "stream": "stdout",
       "text": [
        "464.16 "
       ]
      },
      {
       "output_type": "stream",
       "stream": "stdout",
       "text": [
        "\n",
        " 880:  1.00 "
       ]
      },
      {
       "output_type": "stream",
       "stream": "stdout",
       "text": [
        "98.66 "
       ]
      },
      {
       "output_type": "stream",
       "stream": "stdout",
       "text": [
        "196.32 "
       ]
      },
      {
       "output_type": "stream",
       "stream": "stdout",
       "text": [
        "293.97 "
       ]
      },
      {
       "output_type": "stream",
       "stream": "stdout",
       "text": [
        "391.63 "
       ]
      },
      {
       "output_type": "stream",
       "stream": "stdout",
       "text": [
        "489.29 "
       ]
      },
      {
       "output_type": "stream",
       "stream": "stdout",
       "text": [
        "586.95 "
       ]
      },
      {
       "output_type": "stream",
       "stream": "stdout",
       "text": [
        "684.61 "
       ]
      },
      {
       "output_type": "stream",
       "stream": "stdout",
       "text": [
        "782.26 "
       ]
      },
      {
       "output_type": "stream",
       "stream": "stdout",
       "text": [
        "879.92 "
       ]
      },
      {
       "output_type": "stream",
       "stream": "stdout",
       "text": [
        "\n",
        " 1668:  1.00 "
       ]
      },
      {
       "output_type": "stream",
       "stream": "stdout",
       "text": [
        "186.23 "
       ]
      },
      {
       "output_type": "stream",
       "stream": "stdout",
       "text": [
        "371.47 "
       ]
      },
      {
       "output_type": "stream",
       "stream": "stdout",
       "text": [
        "556.70 "
       ]
      },
      {
       "output_type": "stream",
       "stream": "stdout",
       "text": [
        "741.93 "
       ]
      },
      {
       "output_type": "stream",
       "stream": "stdout",
       "text": [
        "927.17 "
       ]
      },
      {
       "output_type": "stream",
       "stream": "stdout",
       "text": [
        "1112.40 "
       ]
      },
      {
       "output_type": "stream",
       "stream": "stdout",
       "text": [
        "1297.63 "
       ]
      },
      {
       "output_type": "stream",
       "stream": "stdout",
       "text": [
        "1482.87 "
       ]
      },
      {
       "output_type": "stream",
       "stream": "stdout",
       "text": [
        "1668.10 "
       ]
      },
      {
       "output_type": "stream",
       "stream": "stdout",
       "text": [
        "\n",
        " 3162:  1.00 "
       ]
      },
      {
       "output_type": "stream",
       "stream": "stdout",
       "text": [
        "352.25 "
       ]
      },
      {
       "output_type": "stream",
       "stream": "stdout",
       "text": [
        "703.51 "
       ]
      },
      {
       "output_type": "stream",
       "stream": "stdout",
       "text": [
        "1054.76 "
       ]
      },
      {
       "output_type": "stream",
       "stream": "stdout",
       "text": [
        "1406.01 "
       ]
      },
      {
       "output_type": "stream",
       "stream": "stdout",
       "text": [
        "1757.27 "
       ]
      },
      {
       "output_type": "stream",
       "stream": "stdout",
       "text": [
        "2108.52 "
       ]
      },
      {
       "output_type": "stream",
       "stream": "stdout",
       "text": [
        "2459.77 "
       ]
      },
      {
       "output_type": "stream",
       "stream": "stdout",
       "text": [
        "2811.02 "
       ]
      },
      {
       "output_type": "stream",
       "stream": "stdout",
       "text": [
        "3162.28\n"
       ]
      }
     ],
     "prompt_number": 80
    },
    {
     "cell_type": "code",
     "collapsed": false,
     "input": [
      "np.savez('benchmarks.npz',t_take=t_take_store, t_all=t_all_store)"
     ],
     "language": "python",
     "metadata": {},
     "outputs": [],
     "prompt_number": 100
    },
    {
     "cell_type": "code",
     "collapsed": false,
     "input": [
      "data = np.load('benchmarks.npz')\n",
      "cmap = matplotlib.cm.gnuplot\n",
      "\n",
      "fig = figure(figsize=[7,10])\n",
      "ax = fig.add_subplot(111)\n",
      "for ix,N in enumerate(np.logspace(1,3.5,10)):\n",
      "    ax.semilogy(np.linspace(0,1,10),data['t_take'].T[:,ix], color = cmap(float(ix)/10), linestyle = '-', linewidth=3, label = \"N = {:.0f}\".format(N));\n",
      "    ax.semilogy(np.linspace(0,1,10),data['t_all'].T[:,ix], color = cmap(float(ix)/10), linestyle='--', linewidth=3);\n",
      "ax.legend(bbox_to_anchor=(1.18,1.1), ncol=5, loc=1)\n",
      "ax.set_xlabel(r\"$\\langle k \\rangle/N$\", fontsize=16);\n",
      "ax.set_ylabel(r\"Average Execution Time (s)\", fontsize=16);\n",
      "\n",
      "plt.savefig('performance.png', bbox_inches=\"tight\")"
     ],
     "language": "python",
     "metadata": {},
     "outputs": [
      {
       "metadata": {},
       "output_type": "display_data",
       "png": "[encoded data removed]",
       "text": [
        "<matplotlib.figure.Figure at 0x43ca4d0>"
       ]
      }
     ],
     "prompt_number": 64
    },
    {
     "cell_type": "markdown",
     "metadata": {},
     "source": [
      "Discussion\n",
      "---\n",
      "\n",
      "This seems to be a suitable trade-off with the tools used, but there are some other avenues to explore such as Cython, or even a full C implementation. This is unfortunately where my expertise ends although I am interested to see if anyone has any other possible implementations which would beat this. "
     ]
    },
    {
     "cell_type": "markdown",
     "metadata": {},
     "source": [
      "[^1]: SocioPatterns: http://www.sociopatterns.org/datasets/\n",
      "\n",
      "[^2]: M. A. Gibson and J. Bruck. *Effcient exact stochastic simulation of chemical systems with many species and many\n",
      "channels.* The Journal of Physical Chemistry A\n",
      "\n",
      "[^3]: M. Rathinam, L. R. Petzold, Y. Cao, and D. T. Gillespie. *Stiffness in stochastic chemically reacting systems: The\n",
      "implicit tau-leaping method.* The Journal of Chemical Physics"
     ]
    },
    {
     "cell_type": "code",
     "collapsed": false,
     "input": [],
     "language": "python",
     "metadata": {},
     "outputs": []
    }
   ],
   "metadata": {}
  }
 ]
}